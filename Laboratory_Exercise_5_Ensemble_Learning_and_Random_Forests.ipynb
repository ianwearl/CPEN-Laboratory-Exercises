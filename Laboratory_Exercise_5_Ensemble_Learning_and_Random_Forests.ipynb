{
  "nbformat": 4,
  "nbformat_minor": 0,
  "metadata": {
    "colab": {
      "provenance": [],
      "authorship_tag": "ABX9TyPO4zig8B7iNaSSBXgUHQRZ",
      "include_colab_link": true
    },
    "kernelspec": {
      "name": "python3",
      "display_name": "Python 3"
    },
    "language_info": {
      "name": "python"
    }
  },
  "cells": [
    {
      "cell_type": "markdown",
      "metadata": {
        "id": "view-in-github",
        "colab_type": "text"
      },
      "source": [
        "<a href=\"https://colab.research.google.com/github/ianwearl/CPEN-Laboratory-Exercises/blob/main/Laboratory_Exercise_5_Ensemble_Learning_and_Random_Forests.ipynb\" target=\"_parent\"><img src=\"https://colab.research.google.com/assets/colab-badge.svg\" alt=\"Open In Colab\"/></a>"
      ]
    },
    {
      "cell_type": "markdown",
      "source": [
        "##Laboratory Exercise 5: Ensemble Learning and Random Forests"
      ],
      "metadata": {
        "id": "einibDjw3aQZ"
      }
    },
    {
      "cell_type": "code",
      "execution_count": 1,
      "metadata": {
        "colab": {
          "base_uri": "https://localhost:8080/"
        },
        "id": "kpNyL-Cz3Q5b",
        "outputId": "cd47426c-a9a6-427d-c9a6-38cde755ec52"
      },
      "outputs": [
        {
          "output_type": "stream",
          "name": "stderr",
          "text": [
            "/usr/local/lib/python3.10/dist-packages/sklearn/datasets/_openml.py:968: FutureWarning: The default value of `parser` will change from `'liac-arff'` to `'auto'` in 1.4. You can set `parser='auto'` to silence this warning. Therefore, an `ImportError` will be raised from 1.4 if the dataset is dense and pandas is not installed. Note that the pandas parser may return different data types. See the Notes Section in fetch_openml's API doc for details.\n",
            "  warn(\n"
          ]
        },
        {
          "output_type": "stream",
          "name": "stdout",
          "text": [
            "Training the RandomForestClassifier\n",
            "Training the ExtraTreesClassifier\n",
            "Training the LinearSVC\n",
            "Training the MLPClassifier\n"
          ]
        },
        {
          "output_type": "execute_result",
          "data": {
            "text/plain": [
              "[0.9692, 0.9715, 0.859, 0.9614]"
            ]
          },
          "metadata": {},
          "execution_count": 1
        }
      ],
      "source": [
        "# Python ≥3.5 is required\n",
        "import sys\n",
        "assert sys.version_info >= (3, 5)\n",
        "\n",
        "# Scikit-Learn ≥0.20 is required\n",
        "import sklearn\n",
        "assert sklearn.__version__ >= \"0.20\"\n",
        "\n",
        "# Common imports\n",
        "import numpy as np\n",
        "import os\n",
        "\n",
        "# To plot pretty figures\n",
        "import matplotlib as mpl\n",
        "import matplotlib.pyplot as plt\n",
        "mpl.rc('axes', labelsize=14)\n",
        "mpl.rc('xtick', labelsize=12)\n",
        "mpl.rc('ytick', labelsize=12)\n",
        "\n",
        "# Where to save the figures\n",
        "PROJECT_ROOT_DIR = \".\"\n",
        "CHAPTER_ID = \"ensembles\"\n",
        "IMAGES_PATH = os.path.join(PROJECT_ROOT_DIR, \"images\", CHAPTER_ID)\n",
        "os.makedirs(IMAGES_PATH, exist_ok=True)\n",
        "\n",
        "def save_fig(fig_id, tight_layout=True, fig_extension=\"png\", resolution=300):\n",
        "    path = os.path.join(IMAGES_PATH, fig_id + \".\" + fig_extension)\n",
        "    print(\"Saving figure\", fig_id)\n",
        "    if tight_layout:\n",
        "        plt.tight_layout()\n",
        "    plt.savefig(path, format=fig_extension, dpi=resolution)\n",
        "\n",
        "from sklearn.model_selection import train_test_split\n",
        "from sklearn.neighbors import KNeighborsClassifier\n",
        "from sklearn.model_selection import GridSearchCV\n",
        "from sklearn.ensemble import RandomForestClassifier, ExtraTreesClassifier, VotingClassifier\n",
        "from sklearn.svm import LinearSVC\n",
        "from sklearn.neural_network import MLPClassifier\n",
        "from sklearn.datasets import fetch_openml\n",
        "\n",
        "mnist = fetch_openml('mnist_784', version=1, as_frame=False)\n",
        "mnist.keys()\n",
        "\n",
        "X, y = mnist['data'], mnist['target']\n",
        "\n",
        "X_train_val, X_test, y_train_val, y_test = train_test_split(\n",
        "    X, y, test_size=10000, random_state=42)\n",
        "X_train, X_val, y_train, y_val = train_test_split(\n",
        "    X_train_val, y_train_val, test_size=10000, random_state=42)\n",
        "\n",
        "random_forest_clf = RandomForestClassifier(n_estimators=100, random_state=42)\n",
        "extra_trees_clf = ExtraTreesClassifier(n_estimators=100, random_state=42)\n",
        "svm_clf = LinearSVC(max_iter=100, tol=20, random_state=42)\n",
        "mlp_clf = MLPClassifier(random_state=42)\n",
        "\n",
        "estimators = [random_forest_clf, extra_trees_clf, svm_clf, mlp_clf]\n",
        "for estimator in estimators:\n",
        "    print(\"Training the\", estimator.__class__.__name__)\n",
        "    estimator.fit(X_train, y_train)\n",
        "\n",
        "[estimator.score(X_val, y_val) for estimator in estimators]"
      ]
    },
    {
      "cell_type": "code",
      "source": [
        "# To plot pretty figures\n",
        "import matplotlib as mpl\n",
        "import matplotlib.pyplot as plt\n",
        "mpl.rc('axes', labelsize=14)\n",
        "mpl.rc('xtick', labelsize=12)\n",
        "mpl.rc('ytick', labelsize=12)\n"
      ],
      "metadata": {
        "id": "PN6-AecM3c6X"
      },
      "execution_count": 2,
      "outputs": []
    },
    {
      "cell_type": "code",
      "source": [
        "estimators = [random_forest_clf, extra_trees_clf, svm_clf, mlp_clf]\n",
        "for estimator in estimators:\n",
        "    print(\"Training\", a.__class__.__name__)\n",
        "    estimator.fit(X_train, y_train)\n"
      ],
      "metadata": {
        "colab": {
          "base_uri": "https://localhost:8080/",
          "height": 217
        },
        "id": "NHWVNElW3gKk",
        "outputId": "b23ab740-28f7-48d7-9888-b9b0bb5a07af"
      },
      "execution_count": 5,
      "outputs": [
        {
          "output_type": "error",
          "ename": "NameError",
          "evalue": "ignored",
          "traceback": [
            "\u001b[0;31m---------------------------------------------------------------------------\u001b[0m",
            "\u001b[0;31mNameError\u001b[0m                                 Traceback (most recent call last)",
            "\u001b[0;32m<ipython-input-5-459a3adcaa26>\u001b[0m in \u001b[0;36m<cell line: 2>\u001b[0;34m()\u001b[0m\n\u001b[1;32m      1\u001b[0m \u001b[0mestimators\u001b[0m \u001b[0;34m=\u001b[0m \u001b[0;34m[\u001b[0m\u001b[0mrandom_forest_clf\u001b[0m\u001b[0;34m,\u001b[0m \u001b[0mextra_trees_clf\u001b[0m\u001b[0;34m,\u001b[0m \u001b[0msvm_clf\u001b[0m\u001b[0;34m,\u001b[0m \u001b[0mmlp_clf\u001b[0m\u001b[0;34m]\u001b[0m\u001b[0;34m\u001b[0m\u001b[0;34m\u001b[0m\u001b[0m\n\u001b[1;32m      2\u001b[0m \u001b[0;32mfor\u001b[0m \u001b[0mestimator\u001b[0m \u001b[0;32min\u001b[0m \u001b[0mestimators\u001b[0m\u001b[0;34m:\u001b[0m\u001b[0;34m\u001b[0m\u001b[0;34m\u001b[0m\u001b[0m\n\u001b[0;32m----> 3\u001b[0;31m     \u001b[0mprint\u001b[0m\u001b[0;34m(\u001b[0m\u001b[0;34m\"Training\"\u001b[0m\u001b[0;34m,\u001b[0m \u001b[0ma\u001b[0m\u001b[0;34m.\u001b[0m\u001b[0m__class__\u001b[0m\u001b[0;34m.\u001b[0m\u001b[0m__name__\u001b[0m\u001b[0;34m)\u001b[0m\u001b[0;34m\u001b[0m\u001b[0;34m\u001b[0m\u001b[0m\n\u001b[0m\u001b[1;32m      4\u001b[0m     \u001b[0mestimator\u001b[0m\u001b[0;34m.\u001b[0m\u001b[0mfit\u001b[0m\u001b[0;34m(\u001b[0m\u001b[0mX_train\u001b[0m\u001b[0;34m,\u001b[0m \u001b[0my_train\u001b[0m\u001b[0;34m)\u001b[0m\u001b[0;34m\u001b[0m\u001b[0;34m\u001b[0m\u001b[0m\n",
            "\u001b[0;31mNameError\u001b[0m: name 'a' is not defined"
          ]
        }
      ]
    },
    {
      "cell_type": "code",
      "source": [
        "named_estimators = [\n",
        "    (\"random_forest_clf\", random_forest_clf),\n",
        "    (\"extra_trees_clf\", extra_trees_clf),\n",
        "    (\"svm_clf\", svm_clf),\n",
        "    (\"mlp_clf\", mlp_clf),\n",
        "]\n",
        "voting_clf = VotingClassifier(estimators=named_estimators)\n",
        "voting_clf.fit(X_train, y_train)\n",
        "\n",
        "[voting_clf.named_estimators_[name].score(X_val, y_val) for name, _ in named_estimators]\n"
      ],
      "metadata": {
        "id": "IE5uqhVL3hsb"
      },
      "execution_count": null,
      "outputs": []
    },
    {
      "cell_type": "code",
      "source": [
        "voting_clf = VotingClassifier(estimators=named_estimators)\n",
        "voting_clf.fit(X_train, y_train)\n",
        "voting_clf.score(X_val, y_val)"
      ],
      "metadata": {
        "id": "s6xmvyk43jdT"
      },
      "execution_count": null,
      "outputs": []
    },
    {
      "cell_type": "code",
      "source": [
        "[voting_clf.estimators_[i].score(X_val, y_val) for i in range(len(voting_clf.estimators_))]"
      ],
      "metadata": {
        "id": "kA_vO9y53lLe"
      },
      "execution_count": null,
      "outputs": []
    },
    {
      "cell_type": "code",
      "source": [
        "from sklearn.model_selection import train_test_split"
      ],
      "metadata": {
        "id": "ijsUMuiN3mjk"
      },
      "execution_count": null,
      "outputs": []
    },
    {
      "cell_type": "code",
      "source": [
        "from sklearn.ensemble import RandomForestClassifier, ExtraTreesClassifier, VotingClassifier\n",
        "from sklearn.svm import LinearSVC\n",
        "from sklearn.neural_network import MLPClassifier"
      ],
      "metadata": {
        "id": "MXu6402t3n7k"
      },
      "execution_count": null,
      "outputs": []
    },
    {
      "cell_type": "code",
      "source": [
        "X_train_val, X_test, y_train_val, y_test = train_test_split(\n",
        "    mnist.data, mnist.target, test_size=10000, random_state=42)\n",
        "X_train, X_val, y_train, y_val = train_test_split(\n",
        "    X_train_val, y_train_val, test_size=10000, random_state=42)"
      ],
      "metadata": {
        "id": "I9c5SuLQ3pJE"
      },
      "execution_count": null,
      "outputs": []
    },
    {
      "cell_type": "code",
      "source": [
        "[voting_clf.estimators_[i].score(X_val, y_val) for i in range(len(voting_clf.estimators_))]"
      ],
      "metadata": {
        "id": "6hKwNsBk3q1T"
      },
      "execution_count": null,
      "outputs": []
    },
    {
      "cell_type": "code",
      "source": [
        "voting_clf.score(X_val, y_val)"
      ],
      "metadata": {
        "id": "lk2pdXna3sCj"
      },
      "execution_count": null,
      "outputs": []
    },
    {
      "cell_type": "code",
      "source": [
        "[estimator.score(X_val, y_val) for estimator in voting_clf.estimators_]"
      ],
      "metadata": {
        "id": "QmCwj2uD3vg0"
      },
      "execution_count": null,
      "outputs": []
    },
    {
      "cell_type": "code",
      "source": [
        "voting_clf.set_params(svm_clf=None)"
      ],
      "metadata": {
        "id": "E_v2DY073v6b"
      },
      "execution_count": null,
      "outputs": []
    },
    {
      "cell_type": "code",
      "source": [
        "voting_clf.estimators"
      ],
      "metadata": {
        "id": "Sgp3NLQt3xWI"
      },
      "execution_count": null,
      "outputs": []
    },
    {
      "cell_type": "code",
      "source": [
        "voting_clf.estimators_"
      ],
      "metadata": {
        "id": "VeCFJHwz3yz4"
      },
      "execution_count": null,
      "outputs": []
    },
    {
      "cell_type": "code",
      "source": [
        "del voting_clf.estimators_[2]"
      ],
      "metadata": {
        "id": "z_x6BV1530Zc"
      },
      "execution_count": null,
      "outputs": []
    },
    {
      "cell_type": "code",
      "source": [
        "voting_clf.score(X_val, y_val)"
      ],
      "metadata": {
        "id": "Ba8VsX8g31lo"
      },
      "execution_count": null,
      "outputs": []
    },
    {
      "cell_type": "code",
      "source": [
        "voting_clf.voting = \"soft\"\n",
        "voting_clf.score(X_val, y_val)"
      ],
      "metadata": {
        "id": "T6EwURgR33Eo"
      },
      "execution_count": null,
      "outputs": []
    },
    {
      "cell_type": "code",
      "source": [
        "voting_clf.voting = \"hard\"\n",
        "voting_clf.score(X_test, y_test)"
      ],
      "metadata": {
        "id": "Y7quoMhI3-Df"
      },
      "execution_count": null,
      "outputs": []
    },
    {
      "cell_type": "code",
      "source": [
        "[estimator.score(X_test, y_test) for estimator in voting_clf.estimators_]"
      ],
      "metadata": {
        "id": "DWl9wI6J3_ST"
      },
      "execution_count": null,
      "outputs": []
    },
    {
      "cell_type": "code",
      "source": [
        "from sklearn.datasets import fetch_openml\n",
        "from sklearn.model_selection import train_test_split\n",
        "\n",
        "# Load MNIST dataset\n",
        "mnist = fetch_openml('mnist_784', version=1, cache=True)\n",
        "\n",
        "# Split data into features (X) and labels (y)\n",
        "X, y = mnist[\"data\"], mnist[\"target\"]\n",
        "\n",
        "# Split data into training, validation, and test sets\n",
        "X_train, X_test, y_train, y_test = train_test_split(X, y, test_size=10000, random_state=42)\n",
        "X_train, X_val, y_train, y_val = train_test_split(X_train, y_train, test_size=10000, random_state=42)\n",
        "\n",
        "from sklearn.ensemble import RandomForestClassifier, ExtraTreesClassifier, VotingClassifier\n",
        "from sklearn.svm import SVC\n",
        "\n",
        "# Initialize individual classifiers\n",
        "random_forest_clf = RandomForestClassifier(n_estimators=100, random_state=42)\n",
        "extra_trees_clf = ExtraTreesClassifier(n_estimators=100, random_state=42)\n",
        "svm_clf = SVC(probability=True, random_state=42)\n",
        "\n",
        "# Train individual classifiers\n",
        "random_forest_clf.fit(X_train, y_train)\n",
        "extra_trees_clf.fit(X_train, y_train)\n",
        "svm_clf.fit(X_train, y_train)\n",
        "\n",
        "# Create a voting classifier with soft voting\n",
        "voting_clf = VotingClassifier(\n",
        "    estimators=[('random_forest', random_forest_clf), ('extra_trees', extra_trees_clf), ('svm', svm_clf)],\n",
        "    voting='soft'\n",
        ")\n",
        "\n",
        "# Train the voting classifier\n",
        "voting_clf.fit(X_train, y_train)\n",
        "\n",
        "from sklearn.metrics import accuracy_score\n",
        "\n",
        "# Make predictions on the validation set\n",
        "y_val_pred = voting_clf.predict(X_val)\n",
        "\n",
        "# Calculate accuracy of the ensemble classifier on the validation set\n",
        "ensemble_accuracy = accuracy_score(y_val, y_val_pred)\n",
        "print(\"Ensemble accuracy on validation set:\", ensemble_accuracy)"
      ],
      "metadata": {
        "id": "gFimYtoE4AtL"
      },
      "execution_count": null,
      "outputs": []
    },
    {
      "cell_type": "code",
      "source": [
        "from sklearn.ensemble import VotingClassifier\n",
        "from sklearn.metrics import accuracy_score\n",
        "\n",
        "# Make predictions on the test set\n",
        "y_test_pred = voting_clf.predict(X_test)\n",
        "\n",
        "# Calculate accuracy of the ensemble classifier on the test set\n",
        "ensemble_test_accuracy = accuracy_score(y_test, y_test_pred)\n",
        "print(\"Ensemble accuracy on test set:\", ensemble_test_accuracy)\n"
      ],
      "metadata": {
        "id": "3vu0Kfht4CPq"
      },
      "execution_count": null,
      "outputs": []
    },
    {
      "cell_type": "code",
      "source": [
        "# Python ≥3.5 is required\n",
        "import sys\n",
        "assert sys.version_info >= (3, 5)\n",
        "\n",
        "# Scikit-Learn ≥0.20 is required\n",
        "import sklearn\n",
        "assert sklearn.__version__ >= \"0.20\"\n",
        "\n",
        "# Common imports\n",
        "import numpy as np\n",
        "import os\n",
        "\n",
        "# To plot pretty figures\n",
        "import matplotlib as mpl\n",
        "import matplotlib.pyplot as plt\n",
        "mpl.rc('axes', labelsize=14)\n",
        "mpl.rc('xtick', labelsize=12)\n",
        "mpl.rc('ytick', labelsize=12)\n",
        "\n",
        "# Where to save the figures\n",
        "PROJECT_ROOT_DIR = \".\"\n",
        "CHAPTER_ID = \"ensembles\"\n",
        "IMAGES_PATH = os.path.join(PROJECT_ROOT_DIR, \"images\", CHAPTER_ID)\n",
        "os.makedirs(IMAGES_PATH, exist_ok=True)\n",
        "\n",
        "def save_fig(fig_id, tight_layout=True, fig_extension=\"png\", resolution=300):\n",
        "    path = os.path.join(IMAGES_PATH, fig_id + \".\" + fig_extension)\n",
        "    print(\"Saving figure\", fig_id)\n",
        "    if tight_layout:\n",
        "        plt.tight_layout()\n",
        "    plt.savefig(path, format=fig_extension, dpi=resolution)\n",
        "\n",
        "from sklearn.model_selection import train_test_split\n",
        "from sklearn.neighbors import KNeighborsClassifier\n",
        "from sklearn.model_selection import GridSearchCV\n",
        "from sklearn.ensemble import RandomForestClassifier, ExtraTreesClassifier, VotingClassifier\n",
        "from sklearn.svm import LinearSVC\n",
        "from sklearn.neural_network import MLPClassifier\n",
        "from sklearn.datasets import fetch_openml\n",
        "\n",
        "mnist = fetch_openml('mnist_784', version=1, as_frame=False)\n",
        "mnist.keys()\n",
        "\n",
        "X, y = mnist['data'], mnist['target']\n",
        "\n",
        "X_train_val, X_test, y_train_val, y_test = train_test_split(\n",
        "    X, y, test_size=10000, random_state=42)\n",
        "X_train, X_val, y_train, y_val = train_test_split(\n",
        "    X_train_val, y_train_val, test_size=10000, random_state=42)\n",
        "\n",
        "random_forest_clf = RandomForestClassifier(n_estimators=100, random_state=42)\n",
        "extra_trees_clf = ExtraTreesClassifier(n_estimators=100, random_state=42)\n",
        "svm_clf = LinearSVC(max_iter=100, tol=20, random_state=42)\n",
        "mlp_clf = MLPClassifier(random_state=42)\n",
        "\n",
        "estimators = [random_forest_clf, extra_trees_clf, svm_clf, mlp_clf]\n",
        "for estimator in estimators:\n",
        "    print(\"Training the\", estimator.__class__.__name__)\n",
        "    estimator.fit(X_train, y_train)\n",
        "\n",
        "[estimator.score(X_val, y_val) for estimator in estimators]"
      ],
      "metadata": {
        "id": "lyQD3npe4D5B"
      },
      "execution_count": null,
      "outputs": []
    },
    {
      "cell_type": "code",
      "source": [
        "# To plot pretty figures\n",
        "import matplotlib as mpl\n",
        "import matplotlib.pyplot as plt\n",
        "mpl.rc('axes', labelsize=14)\n",
        "mpl.rc('xtick', labelsize=12)\n",
        "mpl.rc('ytick', labelsize=12)\n"
      ],
      "metadata": {
        "id": "44Y52r_x4FfT"
      },
      "execution_count": null,
      "outputs": []
    },
    {
      "cell_type": "code",
      "source": [
        "estimators = [random_forest_clf, extra_trees_clf, svm_clf, mlp_clf]\n",
        "for estimator in estimators:\n",
        "    print(\"Training\", estimator.__class__.__name__)\n",
        "    estimator.fit(X_train, y_train)\n"
      ],
      "metadata": {
        "id": "v5QO5Z9m4Gxi"
      },
      "execution_count": null,
      "outputs": []
    },
    {
      "cell_type": "code",
      "source": [
        "named_estimators = [\n",
        "    (\"random_forest_clf\", random_forest_clf),\n",
        "    (\"extra_trees_clf\", extra_trees_clf),\n",
        "    (\"svm_clf\", svm_clf),\n",
        "    (\"mlp_clf\", mlp_clf),\n",
        "]\n",
        "voting_clf = VotingClassifier(estimators=named_estimators)\n",
        "voting_clf.fit(X_train, y_train)\n",
        "\n",
        "[voting_clf.named_estimators_[name].score(X_val, y_val) for name, _ in named_estimators]\n"
      ],
      "metadata": {
        "id": "edHi0HEe4IAL"
      },
      "execution_count": null,
      "outputs": []
    },
    {
      "cell_type": "code",
      "source": [
        "voting_clf = VotingClassifier(estimators=named_estimators)\n",
        "voting_clf.fit(X_train, y_train)\n",
        "voting_clf.score(X_val, y_val)"
      ],
      "metadata": {
        "id": "kcEEthy54JzD"
      },
      "execution_count": null,
      "outputs": []
    },
    {
      "cell_type": "code",
      "source": [
        "[voting_clf.estimators_[i].score(X_val, y_val) for i in range(len(voting_clf.estimators_))]"
      ],
      "metadata": {
        "id": "bsC2JTnZ4Liy"
      },
      "execution_count": null,
      "outputs": []
    },
    {
      "cell_type": "code",
      "source": [
        "from sklearn.model_selection import train_test_split"
      ],
      "metadata": {
        "id": "e4meZpXp4Mvq"
      },
      "execution_count": null,
      "outputs": []
    },
    {
      "cell_type": "code",
      "source": [
        "from sklearn.ensemble import RandomForestClassifier, ExtraTreesClassifier, VotingClassifier\n",
        "from sklearn.svm import LinearSVC\n",
        "from sklearn.neural_network import MLPClassifier"
      ],
      "metadata": {
        "id": "cFeXV2f84N9T"
      },
      "execution_count": null,
      "outputs": []
    },
    {
      "cell_type": "code",
      "source": [
        "X_train_val, X_test, y_train_val, y_test = train_test_split(\n",
        "    mnist.data, mnist.target, test_size=10000, random_state=42)\n",
        "X_train, X_val, y_train, y_val = train_test_split(\n",
        "    X_train_val, y_train_val, test_size=10000, random_state=42)"
      ],
      "metadata": {
        "id": "O-9IZjJO4QBE"
      },
      "execution_count": null,
      "outputs": []
    },
    {
      "cell_type": "code",
      "source": [
        "[voting_clf.estimators_[i].score(X_val, y_val) for i in range(len(voting_clf.estimators_))]"
      ],
      "metadata": {
        "id": "RryG5i5v4Sku"
      },
      "execution_count": null,
      "outputs": []
    },
    {
      "cell_type": "code",
      "source": [
        "voting_clf.score(X_val, y_val)"
      ],
      "metadata": {
        "id": "uDXiSn394U0O"
      },
      "execution_count": null,
      "outputs": []
    },
    {
      "cell_type": "code",
      "source": [
        "[estimator.score(X_val, y_val) for estimator in voting_clf.estimators_]"
      ],
      "metadata": {
        "id": "ttTwOVu84WDD"
      },
      "execution_count": null,
      "outputs": []
    },
    {
      "cell_type": "code",
      "source": [
        "voting_clf.set_params(svm_clf=None)"
      ],
      "metadata": {
        "id": "g8ClHFIe4X0t"
      },
      "execution_count": null,
      "outputs": []
    },
    {
      "cell_type": "code",
      "source": [
        "voting_clf.estimators"
      ],
      "metadata": {
        "id": "BdFKUPKw4ZLU"
      },
      "execution_count": null,
      "outputs": []
    },
    {
      "cell_type": "code",
      "source": [
        "voting_clf.estimators_"
      ],
      "metadata": {
        "id": "m8ja2NX94ai-"
      },
      "execution_count": null,
      "outputs": []
    },
    {
      "cell_type": "code",
      "source": [
        "del voting_clf.estimators_[2]"
      ],
      "metadata": {
        "id": "g8dvHRHG4cNJ"
      },
      "execution_count": null,
      "outputs": []
    },
    {
      "cell_type": "code",
      "source": [
        "voting_clf.score(X_val, y_val)"
      ],
      "metadata": {
        "id": "z2eW2Vkg4dps"
      },
      "execution_count": null,
      "outputs": []
    },
    {
      "cell_type": "code",
      "source": [
        "voting_clf.voting = \"soft\"\n",
        "voting_clf.score(X_val, y_val)"
      ],
      "metadata": {
        "id": "DakpnBOW4fcK"
      },
      "execution_count": null,
      "outputs": []
    },
    {
      "cell_type": "code",
      "source": [
        "voting_clf.voting = \"hard\"\n",
        "voting_clf.score(X_test, y_test)"
      ],
      "metadata": {
        "id": "I_cX-_Du4hBK"
      },
      "execution_count": null,
      "outputs": []
    },
    {
      "cell_type": "code",
      "source": [
        "[estimator.score(X_test, y_test) for estimator in voting_clf.estimators_]"
      ],
      "metadata": {
        "id": "v5gZNLLF4iy-"
      },
      "execution_count": null,
      "outputs": []
    },
    {
      "cell_type": "code",
      "source": [
        "from sklearn.datasets import fetch_openml\n",
        "from sklearn.model_selection import train_test_split\n",
        "\n",
        "# Load MNIST dataset\n",
        "mnist = fetch_openml('mnist_784', version=1, cache=True)\n",
        "\n",
        "# Split data into features (X) and labels (y)\n",
        "X, y = mnist[\"data\"], mnist[\"target\"]\n",
        "\n",
        "# Split data into training, validation, and test sets\n",
        "X_train, X_test, y_train, y_test = train_test_split(X, y, test_size=10000, random_state=42)\n",
        "X_train, X_val, y_train, y_val = train_test_split(X_train, y_train, test_size=10000, random_state=42)\n",
        "\n",
        "from sklearn.ensemble import RandomForestClassifier, ExtraTreesClassifier, VotingClassifier\n",
        "from sklearn.svm import SVC\n",
        "\n",
        "# Initialize individual classifiers\n",
        "random_forest_clf = RandomForestClassifier(n_estimators=100, random_state=42)\n",
        "extra_trees_clf = ExtraTreesClassifier(n_estimators=100, random_state=42)\n",
        "svm_clf = SVC(probability=True, random_state=42)\n",
        "\n",
        "# Train individual classifiers\n",
        "random_forest_clf.fit(X_train, y_train)\n",
        "extra_trees_clf.fit(X_train, y_train)\n",
        "svm_clf.fit(X_train, y_train)\n",
        "\n",
        "# Create a voting classifier with soft voting\n",
        "voting_clf = VotingClassifier(\n",
        "    estimators=[('random_forest', random_forest_clf), ('extra_trees', extra_trees_clf), ('svm', svm_clf)],\n",
        "    voting='soft'\n",
        ")\n",
        "\n",
        "# Train the voting classifier\n",
        "voting_clf.fit(X_train, y_train)\n",
        "\n",
        "from sklearn.metrics import accuracy_score\n",
        "\n",
        "# Make predictions on the validation set\n",
        "y_val_pred = voting_clf.predict(X_val)\n",
        "\n",
        "# Calculate accuracy of the ensemble classifier on the validation set\n",
        "ensemble_accuracy = accuracy_score(y_val, y_val_pred)\n",
        "print(\"Ensemble accuracy on validation set:\", ensemble_accuracy)"
      ],
      "metadata": {
        "id": "x03FSkv-4kba"
      },
      "execution_count": null,
      "outputs": []
    },
    {
      "cell_type": "code",
      "source": [
        "from sklearn.ensemble import VotingClassifier\n",
        "from sklearn.metrics import accuracy_score\n",
        "\n",
        "# Make predictions on the test set\n",
        "y_test_pred = voting_clf.predict(X_test)\n",
        "\n",
        "# Calculate accuracy of the ensemble classifier on the test set\n",
        "ensemble_test_accuracy = accuracy_score(y_test, y_test_pred)\n",
        "print(\"Ensemble accuracy on test set:\", ensemble_test_accuracy)\n"
      ],
      "metadata": {
        "id": "NMydRdsH4vX3"
      },
      "execution_count": null,
      "outputs": []
    },
    {
      "cell_type": "code",
      "source": [
        "# Python ≥3.5 is required\n",
        "import sys\n",
        "assert sys.version_info >= (3, 5)\n",
        "\n",
        "# Scikit-Learn ≥0.20 is required\n",
        "import sklearn\n",
        "assert sklearn.__version__ >= \"0.20\"\n",
        "\n",
        "# Common imports\n",
        "import numpy as np\n",
        "import os\n",
        "\n",
        "# To plot pretty figures\n",
        "import matplotlib as mpl\n",
        "import matplotlib.pyplot as plt\n",
        "mpl.rc('axes', labelsize=14)\n",
        "mpl.rc('xtick', labelsize=12)\n",
        "mpl.rc('ytick', labelsize=12)\n",
        "\n",
        "# Where to save the figures\n",
        "PROJECT_ROOT_DIR = \".\"\n",
        "CHAPTER_ID = \"ensembles\"\n",
        "IMAGES_PATH = os.path.join(PROJECT_ROOT_DIR, \"images\", CHAPTER_ID)\n",
        "os.makedirs(IMAGES_PATH, exist_ok=True)\n",
        "\n",
        "def save_fig(fig_id, tight_layout=True, fig_extension=\"png\", resolution=300):\n",
        "    path = os.path.join(IMAGES_PATH, fig_id + \".\" + fig_extension)\n",
        "    print(\"Saving figure\", fig_id)\n",
        "    if tight_layout:\n",
        "        plt.tight_layout()\n",
        "    plt.savefig(path, format=fig_extension, dpi=resolution)\n",
        "\n",
        "from sklearn.model_selection import train_test_split\n",
        "from sklearn.neighbors import KNeighborsClassifier\n",
        "from sklearn.model_selection import GridSearchCV\n",
        "from sklearn.ensemble import RandomForestClassifier, ExtraTreesClassifier, VotingClassifier\n",
        "from sklearn.svm import LinearSVC\n",
        "from sklearn.neural_network import MLPClassifier\n",
        "from sklearn.datasets import fetch_openml\n",
        "\n",
        "mnist = fetch_openml('mnist_784', version=1, as_frame=False)\n",
        "mnist.keys()\n",
        "\n",
        "X, y = mnist['data'], mnist['target']\n",
        "\n",
        "X_train_val, X_test, y_train_val, y_test = train_test_split(\n",
        "    X, y, test_size=10000, random_state=42)\n",
        "X_train, X_val, y_train, y_val = train_test_split(\n",
        "    X_train_val, y_train_val, test_size=10000, random_state=42)\n",
        "\n",
        "random_forest_clf = RandomForestClassifier(n_estimators=100, random_state=42)\n",
        "extra_trees_clf = ExtraTreesClassifier(n_estimators=100, random_state=42)\n",
        "svm_clf = LinearSVC(max_iter=100, tol=20, random_state=42)\n",
        "mlp_clf = MLPClassifier(random_state=42)\n",
        "\n",
        "estimators = [random_forest_clf, extra_trees_clf, svm_clf, mlp_clf]\n",
        "for estimator in estimators:\n",
        "    print(\"Training the\", estimator.__class__.__name__)\n",
        "    estimator.fit(X_train, y_train)\n",
        "\n",
        "[estimator.score(X_val, y_val) for estimator in estimators]"
      ],
      "metadata": {
        "id": "JBR1uA0S4w-f"
      },
      "execution_count": null,
      "outputs": []
    },
    {
      "cell_type": "code",
      "source": [
        "# To plot pretty figures\n",
        "import matplotlib as mpl\n",
        "import matplotlib.pyplot as plt\n",
        "mpl.rc('axes', labelsize=14)\n",
        "mpl.rc('xtick', labelsize=12)\n",
        "mpl.rc('ytick', labelsize=12)\n"
      ],
      "metadata": {
        "id": "5ewqBSPb4yQq"
      },
      "execution_count": null,
      "outputs": []
    },
    {
      "cell_type": "code",
      "source": [
        "estimators = [random_forest_clf, extra_trees_clf, svm_clf, mlp_clf]\n",
        "for estimator in estimators:\n",
        "    print(\"Training\", estimator.__class__.__name__)\n",
        "    estimator.fit(X_train, y_train)\n"
      ],
      "metadata": {
        "id": "WBgIFYNC4zan"
      },
      "execution_count": null,
      "outputs": []
    },
    {
      "cell_type": "code",
      "source": [
        "named_estimators = [\n",
        "    (\"random_forest_clf\", random_forest_clf),\n",
        "    (\"extra_trees_clf\", extra_trees_clf),\n",
        "    (\"svm_clf\", svm_clf),\n",
        "    (\"mlp_clf\", mlp_clf),\n",
        "]\n",
        "voting_clf = VotingClassifier(estimators=named_estimators)\n",
        "voting_clf.fit(X_train, y_train)\n",
        "\n",
        "[voting_clf.named_estimators_[name].score(X_val, y_val) for name, _ in named_estimators]\n"
      ],
      "metadata": {
        "id": "TDjYYBEc40p4"
      },
      "execution_count": null,
      "outputs": []
    },
    {
      "cell_type": "code",
      "source": [
        "voting_clf = VotingClassifier(estimators=named_estimators)\n",
        "voting_clf.fit(X_train, y_train)\n",
        "voting_clf.score(X_val, y_val)"
      ],
      "metadata": {
        "id": "BsznCw3441yn"
      },
      "execution_count": null,
      "outputs": []
    },
    {
      "cell_type": "code",
      "source": [
        "[voting_clf.estimators_[i].score(X_val, y_val) for i in range(len(voting_clf.estimators_))]"
      ],
      "metadata": {
        "id": "SwEX6fLz43h_"
      },
      "execution_count": null,
      "outputs": []
    },
    {
      "cell_type": "code",
      "source": [
        "from sklearn.model_selection import train_test_split"
      ],
      "metadata": {
        "id": "3EaTPfwS44qR"
      },
      "execution_count": null,
      "outputs": []
    },
    {
      "cell_type": "code",
      "source": [
        "from sklearn.ensemble import RandomForestClassifier, ExtraTreesClassifier, VotingClassifier\n",
        "from sklearn.svm import LinearSVC\n",
        "from sklearn.neural_network import MLPClassifier"
      ],
      "metadata": {
        "id": "jp_BmPPB457T"
      },
      "execution_count": null,
      "outputs": []
    },
    {
      "cell_type": "code",
      "source": [
        "X_train_val, X_test, y_train_val, y_test = train_test_split(\n",
        "    mnist.data, mnist.target, test_size=10000, random_state=42)\n",
        "X_train, X_val, y_train, y_val = train_test_split(\n",
        "    X_train_val, y_train_val, test_size=10000, random_state=42)"
      ],
      "metadata": {
        "id": "I0YwDgTS5JJz"
      },
      "execution_count": null,
      "outputs": []
    },
    {
      "cell_type": "code",
      "source": [
        "[voting_clf.estimators_[i].score(X_val, y_val) for i in range(len(voting_clf.estimators_))]"
      ],
      "metadata": {
        "id": "js73vKZ75-CK"
      },
      "execution_count": null,
      "outputs": []
    },
    {
      "cell_type": "code",
      "source": [
        "voting_clf.score(X_val, y_val)"
      ],
      "metadata": {
        "id": "3W9Ni9eJ5_Rx"
      },
      "execution_count": null,
      "outputs": []
    },
    {
      "cell_type": "code",
      "source": [
        "[estimator.score(X_val, y_val) for estimator in voting_clf.estimators_]"
      ],
      "metadata": {
        "id": "bsJLw5xt6AQq"
      },
      "execution_count": null,
      "outputs": []
    },
    {
      "cell_type": "code",
      "source": [
        "voting_clf.set_params(svm_clf=None)"
      ],
      "metadata": {
        "id": "mcbxv3ET6BTi"
      },
      "execution_count": null,
      "outputs": []
    },
    {
      "cell_type": "code",
      "source": [
        "voting_clf.estimators"
      ],
      "metadata": {
        "id": "2OkbAPXr6Cnz"
      },
      "execution_count": null,
      "outputs": []
    },
    {
      "cell_type": "code",
      "source": [
        "voting_clf.estimators_"
      ],
      "metadata": {
        "id": "5rYC6BGO6D_b"
      },
      "execution_count": null,
      "outputs": []
    },
    {
      "cell_type": "code",
      "source": [
        "del voting_clf.estimators_[2]"
      ],
      "metadata": {
        "id": "syuD8Nhh6FXL"
      },
      "execution_count": null,
      "outputs": []
    },
    {
      "cell_type": "code",
      "source": [
        "voting_clf.score(X_val, y_val)"
      ],
      "metadata": {
        "id": "16SMHWEg6Gg_"
      },
      "execution_count": null,
      "outputs": []
    },
    {
      "cell_type": "code",
      "source": [
        "voting_clf.voting = \"soft\"\n",
        "voting_clf.score(X_val, y_val)"
      ],
      "metadata": {
        "id": "nMB_jau76IRc"
      },
      "execution_count": null,
      "outputs": []
    },
    {
      "cell_type": "code",
      "source": [
        "voting_clf.voting = \"hard\"\n",
        "voting_clf.score(X_test, y_test)"
      ],
      "metadata": {
        "id": "-5paRsIY6Jd7"
      },
      "execution_count": null,
      "outputs": []
    },
    {
      "cell_type": "code",
      "source": [
        "[estimator.score(X_test, y_test) for estimator in voting_clf.estimators_]"
      ],
      "metadata": {
        "id": "mtTCuMfz6Kll"
      },
      "execution_count": null,
      "outputs": []
    },
    {
      "cell_type": "code",
      "source": [
        "from sklearn.datasets import fetch_openml\n",
        "from sklearn.model_selection import train_test_split\n",
        "\n",
        "# Load MNIST dataset\n",
        "mnist = fetch_openml('mnist_784', version=1, cache=True)\n",
        "\n",
        "# Split data into features (X) and labels (y)\n",
        "X, y = mnist[\"data\"], mnist[\"target\"]\n",
        "\n",
        "# Split data into training, validation, and test sets\n",
        "X_train, X_test, y_train, y_test = train_test_split(X, y, test_size=10000, random_state=42)\n",
        "X_train, X_val, y_train, y_val = train_test_split(X_train, y_train, test_size=10000, random_state=42)\n",
        "\n",
        "from sklearn.ensemble import RandomForestClassifier, ExtraTreesClassifier, VotingClassifier\n",
        "from sklearn.svm import SVC\n",
        "\n",
        "# Initialize individual classifiers\n",
        "random_forest_clf = RandomForestClassifier(n_estimators=100, random_state=42)\n",
        "extra_trees_clf = ExtraTreesClassifier(n_estimators=100, random_state=42)\n",
        "svm_clf = SVC(probability=True, random_state=42)\n",
        "\n",
        "# Train individual classifiers\n",
        "random_forest_clf.fit(X_train, y_train)\n",
        "extra_trees_clf.fit(X_train, y_train)\n",
        "svm_clf.fit(X_train, y_train)\n",
        "\n",
        "# Create a voting classifier with soft voting\n",
        "voting_clf = VotingClassifier(\n",
        "    estimators=[('random_forest', random_forest_clf), ('extra_trees', extra_trees_clf), ('svm', svm_clf)],\n",
        "    voting='soft'\n",
        ")\n",
        "\n",
        "# Train the voting classifier\n",
        "voting_clf.fit(X_train, y_train)\n",
        "\n",
        "from sklearn.metrics import accuracy_score\n",
        "\n",
        "# Make predictions on the validation set\n",
        "y_val_pred = voting_clf.predict(X_val)\n",
        "\n",
        "# Calculate accuracy of the ensemble classifier on the validation set\n",
        "ensemble_accuracy = accuracy_score(y_val, y_val_pred)\n",
        "print(\"Ensemble accuracy on validation set:\", ensemble_accuracy)"
      ],
      "metadata": {
        "id": "_u9lOAaZ6MYL"
      },
      "execution_count": null,
      "outputs": []
    },
    {
      "cell_type": "code",
      "source": [
        "from sklearn.ensemble import VotingClassifier\n",
        "from sklearn.metrics import accuracy_score\n",
        "\n",
        "# Make predictions on the test set\n",
        "y_test_pred = voting_clf.predict(X_test)\n",
        "\n",
        "# Calculate accuracy of the ensemble classifier on the test set\n",
        "ensemble_test_accuracy = accuracy_score(y_test, y_test_pred)\n",
        "print(\"Ensemble accuracy on test set:\", ensemble_test_accuracy)\n"
      ],
      "metadata": {
        "id": "BVG8JdOw6OGz"
      },
      "execution_count": null,
      "outputs": []
    }
  ]
}